{
 "cells": [
  {
   "cell_type": "code",
   "execution_count": 325,
   "metadata": {
    "collapsed": true
   },
   "outputs": [],
   "source": [
    "%matplotlib inline\n",
    "%config InlineBackend.figure_format = 'retina' #set 'png' here when working on notebook\n",
    "\n",
    "import numpy as np # linear algebra\n",
    "import pandas as pd # data processing, CSV file I/O (e.g. pd.read_csv)\n",
    "import seaborn as sns\n",
    "import matplotlib.pyplot as plt"
   ]
  },
  {
   "cell_type": "code",
   "execution_count": 326,
   "metadata": {
    "collapsed": true
   },
   "outputs": [],
   "source": [
    "train = pd.read_csv('../input/train.csv', index_col='Id')\n",
    "test = pd.read_csv('../input/test.csv', index_col='Id')"
   ]
  },
  {
   "cell_type": "code",
   "execution_count": 327,
   "metadata": {
    "collapsed": true
   },
   "outputs": [],
   "source": [
    "train.drop(train[train[\"GrLivArea\"] > 4000].index, inplace=True)"
   ]
  },
  {
   "cell_type": "code",
   "execution_count": 328,
   "metadata": {
    "collapsed": true
   },
   "outputs": [],
   "source": [
    "# constants\n",
    "SKEW = 0.75"
   ]
  },
  {
   "cell_type": "code",
   "execution_count": 329,
   "metadata": {
    "collapsed": true
   },
   "outputs": [],
   "source": [
    "from scipy.stats import skew\n",
    "all_data = pd.concat((train.loc[:,'MSSubClass':'SaleCondition'],\n",
    "                      test.loc[:,'MSSubClass':'SaleCondition']))\n",
    "\n",
    "train[\"SalePrice\"] = np.log1p(train[\"SalePrice\"])"
   ]
  },
  {
   "cell_type": "code",
   "execution_count": 330,
   "metadata": {
    "collapsed": true
   },
   "outputs": [],
   "source": [
    "# new feature: Valid Area\n",
    "flrArea = all_data['1stFlrSF'] + all_data['2ndFlrSF']\n",
    "validArea = flrArea + 0.7 * all_data.TotalBsmtSF + all_data.GarageArea\n",
    "all_data['validArea'] = validArea"
   ]
  },
  {
   "cell_type": "code",
   "execution_count": 331,
   "metadata": {
    "collapsed": false
   },
   "outputs": [],
   "source": [
    "object_feats = all_data.dtypes[all_data.dtypes == object].index\n",
    "all_data[object_feats] = all_data[object_feats].fillna('NA')"
   ]
  },
  {
   "cell_type": "code",
   "execution_count": 332,
   "metadata": {
    "collapsed": false
   },
   "outputs": [],
   "source": [
    "# new feature: quality / condition score\n",
    "qc = ['ExterQual', 'BsmtQual', 'KitchenQual', \n",
    "        'GarageQual', 'ExterCond', 'BsmtCond', 'GarageCond','HeatingQC','FireplaceQu', 'PoolQC'\n",
    "       ]\n",
    "\n",
    "bsmt_exp_dict = {'Gd' : 4, 'Av' : 3, 'Mn' : 2, 'No' : 1, 'NA' : 0}\n",
    "bsmt_fin_dict = {'GLQ' : 6, 'ALQ' : 5, 'BLQ' : 4, 'Rec' : 3, 'LwQ' : 2, 'Unf' : 1, 'NA' : 0}\n",
    "garage_finish_dict = {'Fin' : 3, 'RFn' : 2, 'Unf' : 1, 'NA' : 0}\n",
    "\n",
    "grade = {'Ex' : 5, 'Gd' : 4, 'TA' : 3, 'Fa' : 2, 'Po' : 1, 'NA' : 0}\n",
    "\n",
    "all_data[qc] = all_data[qc].apply(lambda x : x.map(grade))\n",
    "all_data[['BsmtExposure']] = all_data[['BsmtExposure']].apply(lambda x : x.map(bsmt_exp_dict))\n",
    "all_data[['BsmtFinType1','BsmtFinType2']] = all_data[['BsmtFinType1','BsmtFinType2']].apply(lambda x : x.map(bsmt_fin_dict))\n",
    "all_data[['GarageFinish']] = all_data[['GarageFinish']].apply(lambda x : x.map(garage_finish_dict))"
   ]
  },
  {
   "cell_type": "code",
   "execution_count": 333,
   "metadata": {
    "collapsed": true
   },
   "outputs": [],
   "source": [
    "# new feature: Age\n",
    "\n",
    "all_data['Age'] = all_data.YrSold - all_data.YearBuilt"
   ]
  },
  {
   "cell_type": "code",
   "execution_count": 334,
   "metadata": {
    "collapsed": false
   },
   "outputs": [],
   "source": [
    "numeric_feats = all_data.dtypes[all_data.dtypes != \"object\"].index\n",
    "\n",
    "\n",
    "skewed_feats = all_data[numeric_feats].apply(lambda x: skew(x.dropna())) #compute skewness\n",
    "skewed_feats = skewed_feats[skewed_feats > SKEW]\n",
    "skewed_feats = skewed_feats.index\n",
    "\n",
    "\n",
    "all_data[skewed_feats] = np.log1p(all_data[skewed_feats])\n",
    "all_data = pd.get_dummies(all_data)\n",
    "all_data = all_data.fillna(all_data.mean())"
   ]
  },
  {
   "cell_type": "code",
   "execution_count": 335,
   "metadata": {
    "collapsed": true
   },
   "outputs": [],
   "source": [
    "X_train = all_data[:train.shape[0]]\n",
    "X_test = all_data[train.shape[0]:]\n",
    "y = train.SalePrice"
   ]
  },
  {
   "cell_type": "code",
   "execution_count": 336,
   "metadata": {
    "collapsed": true
   },
   "outputs": [],
   "source": [
    "from sklearn.cross_validation import cross_val_score\n",
    "\n",
    "def rmse(model):\n",
    "    rmse = np.sqrt(-cross_val_score(model, X_train, y=y, scoring='mean_squared_error'))\n",
    "    return rmse.mean()\n",
    "\n",
    "def get_result(model, desc):\n",
    "    y_pred = np.expm1(model.predict(X_test))\n",
    "    output_name = '../output/' + desc + '.csv'\n",
    "    output(output_name, y_pred)\n",
    "\n",
    "def output(path, y_pred):\n",
    "    out_df = pd.DataFrame(y_pred, index=X_test.index, columns=['SalePrice'])\n",
    "    out_df.to_csv(path)"
   ]
  },
  {
   "cell_type": "code",
   "execution_count": 337,
   "metadata": {
    "collapsed": false
   },
   "outputs": [
    {
     "name": "stdout",
     "output_type": "stream",
     "text": [
      "<class 'pandas.core.frame.DataFrame'>\n",
      "Int64Index: 1456 entries, 1 to 1460\n",
      "Columns: 252 entries, MSSubClass to SaleCondition_Partial\n",
      "dtypes: float64(231), int64(21)\n",
      "memory usage: 2.8 MB\n"
     ]
    }
   ],
   "source": [
    "X_train.info()"
   ]
  },
  {
   "cell_type": "code",
   "execution_count": 365,
   "metadata": {
    "collapsed": false
   },
   "outputs": [
    {
     "data": {
      "text/plain": [
       "0.13623933212474362"
      ]
     },
     "execution_count": 365,
     "metadata": {},
     "output_type": "execute_result"
    }
   ],
   "source": [
    "from sklearn.ensemble import RandomForestRegressor\n",
    "\n",
    "rf = RandomForestRegressor(n_estimators=100)\n",
    "rmse(rf)\n",
    "#importance = pd.Series(rf.feature_importances_, index=X_train.columns).sort_values(ascending=False)"
   ]
  },
  {
   "cell_type": "code",
   "execution_count": 339,
   "metadata": {
    "collapsed": false
   },
   "outputs": [
    {
     "name": "stdout",
     "output_type": "stream",
     "text": [
      "Lasso(alpha=0.0004, copy_X=True, fit_intercept=True, max_iter=50000,\n",
      "   normalize=False, positive=False, precompute=False, random_state=None,\n",
      "   selection='cyclic', tol=0.0001, warm_start=False)\n"
     ]
    },
    {
     "data": {
      "text/plain": [
       "0.11292558454305607"
      ]
     },
     "execution_count": 339,
     "metadata": {},
     "output_type": "execute_result"
    }
   ],
   "source": [
    "from sklearn.linear_model import Lasso\n",
    "\n",
    "lasso = Lasso(alpha=0.0004, max_iter=50000)\n",
    "print lasso\n",
    "rmse(lasso)"
   ]
  },
  {
   "cell_type": "code",
   "execution_count": 341,
   "metadata": {
    "collapsed": false
   },
   "outputs": [
    {
     "name": "stdout",
     "output_type": "stream",
     "text": [
      "GradientBoostingRegressor(alpha=0.9, init=None, learning_rate=0.1, loss='ls',\n",
      "             max_depth=3, max_features='sqrt', max_leaf_nodes=None,\n",
      "             min_samples_leaf=1, min_samples_split=2,\n",
      "             min_weight_fraction_leaf=0.0, n_estimators=600,\n",
      "             presort='auto', random_state=None, subsample=1.0, verbose=0,\n",
      "             warm_start=False)\n",
      "0.118078862874\n"
     ]
    }
   ],
   "source": [
    "from sklearn.ensemble import GradientBoostingRegressor\n",
    "\n",
    "gbdt = GradientBoostingRegressor(n_estimators=600, max_features='sqrt', )\n",
    "print gbdt\n",
    "print rmse(gbdt)\n",
    "\n",
    "# gbdt.fit(X_train, y)\n",
    "# get_result(gbdt, 'gbdt_sqrt')\n"
   ]
  },
  {
   "cell_type": "code",
   "execution_count": 323,
   "metadata": {
    "collapsed": false
   },
   "outputs": [
    {
     "ename": "NameError",
     "evalue": "name 'train_d' is not defined",
     "output_type": "error",
     "traceback": [
      "\u001b[0;31m---------------------------------------------------------------------------\u001b[0m",
      "\u001b[0;31mNameError\u001b[0m                                 Traceback (most recent call last)",
      "\u001b[0;32m<ipython-input-323-df97c967ea32>\u001b[0m in \u001b[0;36m<module>\u001b[0;34m()\u001b[0m\n\u001b[0;32m----> 1\u001b[0;31m \u001b[0mtrain_d\u001b[0m\u001b[0;34m\u001b[0m\u001b[0m\n\u001b[0m",
      "\u001b[0;31mNameError\u001b[0m: name 'train_d' is not defined"
     ]
    }
   ],
   "source": []
  },
  {
   "cell_type": "code",
   "execution_count": null,
   "metadata": {
    "collapsed": true
   },
   "outputs": [],
   "source": []
  },
  {
   "cell_type": "code",
   "execution_count": 342,
   "metadata": {
    "collapsed": false
   },
   "outputs": [
    {
     "data": {
      "text/plain": [
       "0.1195299525888343"
      ]
     },
     "execution_count": 342,
     "metadata": {},
     "output_type": "execute_result"
    }
   ],
   "source": [
    "from xgboost import XGBRegressor\n",
    "\n",
    "xgb = XGBRegressor(n_estimators=600)\n",
    "\n",
    "rmse(xgb)"
   ]
  },
  {
   "cell_type": "code",
   "execution_count": null,
   "metadata": {
    "collapsed": false,
    "scrolled": false
   },
   "outputs": [],
   "source": [
    "X_test.shape"
   ]
  },
  {
   "cell_type": "code",
   "execution_count": 345,
   "metadata": {
    "collapsed": false
   },
   "outputs": [
    {
     "data": {
      "text/plain": [
       "GrLivArea                0.316697\n",
       "Neighborhood_Crawfor     0.105768\n",
       "Neighborhood_StoneBr     0.097809\n",
       "LotArea                  0.083736\n",
       "Functional_Typ           0.070216\n",
       "Exterior1st_BrkFace      0.060449\n",
       "OverallQual              0.053325\n",
       "Neighborhood_BrkSide     0.052936\n",
       "Neighborhood_NridgHt     0.052410\n",
       "Neighborhood_NoRidge     0.045194\n",
       "OverallCond              0.042938\n",
       "1stFlrSF                 0.040282\n",
       "Condition1_Norm          0.036105\n",
       "SaleType_New             0.034994\n",
       "Heating_GasW             0.030968\n",
       "MSZoning_FV              0.029703\n",
       "LotConfig_CulDSac        0.028356\n",
       "BsmtExposure             0.027288\n",
       "BsmtFullBath             0.026037\n",
       "Alley_Pave               0.023605\n",
       "HalfBath                 0.022709\n",
       "GarageCars               0.021462\n",
       "KitchenQual              0.021136\n",
       "BldgType_1Fam            0.020269\n",
       "FullBath                 0.019500\n",
       "MasVnrType_Stone         0.019339\n",
       "Neighborhood_ClearCr     0.019118\n",
       "Exterior2nd_Wd Sdng      0.018752\n",
       "SaleCondition_Normal     0.015841\n",
       "LotFrontage              0.014139\n",
       "                           ...   \n",
       "LotConfig_FR2           -0.003612\n",
       "BsmtFinSF2              -0.003636\n",
       "LotShape_IR1            -0.004143\n",
       "Heating_Grav            -0.004192\n",
       "Neighborhood_OldTown    -0.004388\n",
       "HouseStyle_1.5Fin       -0.005667\n",
       "Fence_GdWo              -0.007510\n",
       "Exterior1st_HdBoard     -0.007763\n",
       "BsmtUnfSF               -0.008096\n",
       "BsmtCond                -0.008369\n",
       "BedroomAbvGr            -0.010248\n",
       "MasVnrType_BrkCmn       -0.010343\n",
       "Neighborhood_Gilbert    -0.012257\n",
       "Neighborhood_Mitchel    -0.017193\n",
       "SaleType_COD            -0.018477\n",
       "SaleCondition_Family    -0.021516\n",
       "Neighborhood_NWAmes     -0.024582\n",
       "BldgType_Duplex         -0.024917\n",
       "Condition1_Artery       -0.025055\n",
       "Foundation_BrkTil       -0.026032\n",
       "Exterior1st_Wd Sdng     -0.027535\n",
       "Neighborhood_Edwards    -0.027824\n",
       "MSZoning_RM             -0.030199\n",
       "SaleType_WD             -0.031450\n",
       "Condition1_RRAe         -0.032002\n",
       "CentralAir_N            -0.033579\n",
       "KitchenAbvGr            -0.046805\n",
       "SaleCondition_Abnorml   -0.049238\n",
       "Functional_Maj2         -0.051661\n",
       "MSZoning_C (all)        -0.315903\n",
       "dtype: float64"
      ]
     },
     "execution_count": 345,
     "metadata": {},
     "output_type": "execute_result"
    }
   ],
   "source": [
    "a = lasso.fit(X_train, y)\n",
    "coef = pd.Series(a.coef_, index=all_data.columns)\n",
    "coef = coef.sort_values(ascending=False)\n",
    "coef"
   ]
  },
  {
   "cell_type": "code",
   "execution_count": null,
   "metadata": {
    "collapsed": false
   },
   "outputs": [],
   "source": [
    "### prediction\n",
    "lasso.fit(X_train, y)\n",
    "\n",
    "preds = np.expm1(lasso.predict(X_test))\n",
    "solution = pd.DataFrame({\"Id\":test.index, \"SalePrice\":preds})\n",
    "solution.to_csv(\"../output/lasso_dropout.csv\", index = False)\n"
   ]
  },
  {
   "cell_type": "code",
   "execution_count": 363,
   "metadata": {
    "collapsed": false
   },
   "outputs": [
    {
     "data": {
      "text/plain": [
       "validArea               5.644153e-01\n",
       "OverallQual             2.180893e-01\n",
       "YearRemodAdd            1.389407e-02\n",
       "YearBuilt               1.366977e-02\n",
       "KitchenQual             1.233677e-02\n",
       "LotArea                 1.091160e-02\n",
       "Age                     1.062545e-02\n",
       "OverallCond             1.031909e-02\n",
       "BsmtFinSF1              9.175976e-03\n",
       "GrLivArea               7.316055e-03\n",
       "BsmtUnfSF               6.661456e-03\n",
       "CentralAir_N            6.504450e-03\n",
       "MSZoning_C (all)        6.419904e-03\n",
       "BsmtQual                6.065158e-03\n",
       "1stFlrSF                5.300748e-03\n",
       "TotalBsmtSF             5.026493e-03\n",
       "LotFrontage             4.193943e-03\n",
       "CentralAir_Y            4.065559e-03\n",
       "GarageYrBlt             4.049724e-03\n",
       "FireplaceQu             3.584650e-03\n",
       "GarageArea              3.487142e-03\n",
       "MoSold                  3.178728e-03\n",
       "BsmtFinType1            3.164145e-03\n",
       "WoodDeckSF              2.547328e-03\n",
       "OpenPorchSF             2.491682e-03\n",
       "2ndFlrSF                2.412210e-03\n",
       "MSZoning_RM             1.949541e-03\n",
       "KitchenAbvGr            1.931231e-03\n",
       "GarageType_Detchd       1.910827e-03\n",
       "HeatingQC               1.885123e-03\n",
       "                            ...     \n",
       "SaleType_Con            1.047320e-06\n",
       "MiscFeature_Gar2        9.797256e-07\n",
       "Exterior2nd_Other       9.639326e-07\n",
       "Utilities_AllPub        6.798942e-07\n",
       "Heating_OthW            5.555000e-07\n",
       "Condition2_PosN         3.968005e-07\n",
       "RoofStyle_Shed          2.094160e-07\n",
       "RoofMatl_WdShake        2.093899e-07\n",
       "RoofMatl_Metal          1.937030e-07\n",
       "Exterior1st_Stone       1.389365e-07\n",
       "Condition1_RRNn         1.309674e-07\n",
       "Condition2_PosA         9.963521e-08\n",
       "Electrical_NA           7.709563e-08\n",
       "Exterior1st_ImStucc     7.531190e-08\n",
       "Condition2_Artery       6.953417e-08\n",
       "Neighborhood_Blueste    6.787690e-08\n",
       "Exterior2nd_CBlock      5.684087e-08\n",
       "MiscFeature_TenC        2.174425e-08\n",
       "RoofMatl_Membran        1.889872e-08\n",
       "Functional_NA           0.000000e+00\n",
       "Exterior1st_NA          0.000000e+00\n",
       "SaleType_NA             0.000000e+00\n",
       "Exterior2nd_NA          0.000000e+00\n",
       "Condition2_RRAe         0.000000e+00\n",
       "Exterior1st_CBlock      0.000000e+00\n",
       "Utilities_NA            0.000000e+00\n",
       "Utilities_NoSeWa        0.000000e+00\n",
       "Condition2_RRAn         0.000000e+00\n",
       "MSZoning_NA             0.000000e+00\n",
       "RoofMatl_Roll           0.000000e+00\n",
       "dtype: float64"
      ]
     },
     "execution_count": 363,
     "metadata": {},
     "output_type": "execute_result"
    }
   ],
   "source": [
    "importance"
   ]
  },
  {
   "cell_type": "code",
   "execution_count": 357,
   "metadata": {
    "collapsed": false
   },
   "outputs": [
    {
     "data": {
      "text/plain": [
       "<matplotlib.axes._subplots.AxesSubplot at 0x7f25e91fd490>"
      ]
     },
     "execution_count": 357,
     "metadata": {},
     "output_type": "execute_result"
    },
    {
     "data": {
      "image/png": "[encoded data removed]",
      "text/plain": [
       "<matplotlib.figure.Figure at 0x7f25e9207210>"
      ]
     },
     "metadata": {
      "image/png": {
       "height": 381,
       "width": 541
      }
     },
     "output_type": "display_data"
    }
   ],
   "source": [
    "sns.regplot(X_train.validArea, y)"
   ]
  }
 ],
 "metadata": {
  "anaconda-cloud": {},
  "kernelspec": {
   "display_name": "Python [default]",
   "language": "python",
   "name": "python2"
  },
  "language_info": {
   "codemirror_mode": {
    "name": "ipython",
    "version": 2
   },
   "file_extension": ".py",
   "mimetype": "text/x-python",
   "name": "python",
   "nbconvert_exporter": "python",
   "pygments_lexer": "ipython2",
   "version": "2.7.12"
  }
 },
 "nbformat": 4,
 "nbformat_minor": 1
}

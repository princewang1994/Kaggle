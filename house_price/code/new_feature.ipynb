{
 "cells": [
  {
   "cell_type": "code",
   "execution_count": 60,
   "metadata": {
    "collapsed": true
   },
   "outputs": [],
   "source": [
    "%matplotlib inline\n",
    "%config InlineBackend.figure_format = 'retina' #set 'png' here when working on notebook\n",
    "\n",
    "import numpy as np # linear algebra\n",
    "import pandas as pd # data processing, CSV file I/O (e.g. pd.read_csv)\n",
    "import seaborn as sns\n",
    "import matplotlib.pyplot as plt"
   ]
  },
  {
   "cell_type": "code",
   "execution_count": 75,
   "metadata": {
    "collapsed": true
   },
   "outputs": [],
   "source": [
    "train = pd.read_csv('../input/train.csv', index_col='Id')\n",
    "test = pd.read_csv('../input/test.csv', index_col='Id')"
   ]
  },
  {
   "cell_type": "code",
   "execution_count": 76,
   "metadata": {
    "collapsed": true
   },
   "outputs": [],
   "source": [
    "# constants\n",
    "SKEW = 0.2"
   ]
  },
  {
   "cell_type": "code",
   "execution_count": 77,
   "metadata": {
    "collapsed": true
   },
   "outputs": [],
   "source": [
    "from scipy.stats import skew\n",
    "all_data = pd.concat((train.loc[:,'MSSubClass':'SaleCondition'],\n",
    "                      test.loc[:,'MSSubClass':'SaleCondition']))\n",
    "\n",
    "train[\"SalePrice\"] = np.log1p(train[\"SalePrice\"])"
   ]
  },
  {
   "cell_type": "code",
   "execution_count": 78,
   "metadata": {
    "collapsed": true
   },
   "outputs": [],
   "source": [
    "# new feature: Valid Area\n",
    "flrArea = all_data['1stFlrSF'] + all_data['2ndFlrSF']\n",
    "validArea = flrArea + 0.7 * all_data.TotalBsmtSF + all_data.GarageArea\n",
    "all_data['validArea'] = validArea"
   ]
  },
  {
   "cell_type": "code",
   "execution_count": 79,
   "metadata": {
    "collapsed": false
   },
   "outputs": [],
   "source": [
    "object_feats = all_data.dtypes[all_data.dtypes == object].index\n",
    "all_data[object_feats] = all_data[object_feats].fillna('NA')"
   ]
  },
  {
   "cell_type": "code",
   "execution_count": 80,
   "metadata": {
    "collapsed": false
   },
   "outputs": [],
   "source": [
    "# new feature: quality / condition score\n",
    "qual = ['ExterQual', 'BsmtQual', 'KitchenQual', 'GarageQual']\n",
    "cond = ['ExterCond', 'BsmtCond', 'GarageCond']\n",
    "\n",
    "grade = {'Ex' : 5, 'Gd' : 4, 'TA' : 3, 'Fa' : 2, 'Po' : 1, 'NA' : 0}\n",
    "\n",
    "all_data[qual] = all_data[qual].apply(lambda x : x.map(grade))\n",
    "all_data[cond] = all_data[cond].apply(lambda x : x.map(grade))"
   ]
  },
  {
   "cell_type": "code",
   "execution_count": 81,
   "metadata": {
    "collapsed": false
   },
   "outputs": [],
   "source": [
    "numeric_feats = all_data.dtypes[all_data.dtypes != \"object\"].index\n",
    "\n",
    "\n",
    "skewed_feats = all_data[numeric_feats].apply(lambda x: skew(x.dropna())) #compute skewness\n",
    "skewed_feats = skewed_feats[skewed_feats > SKEW]\n",
    "skewed_feats = skewed_feats.index\n",
    "\n",
    "\n",
    "all_data[skewed_feats] = np.log1p(all_data[skewed_feats])\n",
    "all_data = pd.get_dummies(all_data)\n",
    "all_data = all_data.fillna(all_data.mean())"
   ]
  },
  {
   "cell_type": "code",
   "execution_count": 82,
   "metadata": {
    "collapsed": true
   },
   "outputs": [],
   "source": [
    "X_train = all_data[:train.shape[0]]\n",
    "X_test = all_data[train.shape[0]:]\n",
    "y = train.SalePrice"
   ]
  },
  {
   "cell_type": "code",
   "execution_count": 83,
   "metadata": {
    "collapsed": true
   },
   "outputs": [],
   "source": [
    "from sklearn.cross_validation import cross_val_score\n",
    "\n",
    "def rmse(model):\n",
    "    rmse = np.sqrt(-cross_val_score(model, X_train, y=y, scoring='mean_squared_error'))\n",
    "    return rmse.mean()\n",
    "\n",
    "def get_result(model, desc):\n",
    "    y_pred = np.expm1(model.predict(test_df.values))\n",
    "    output_name = '../output/' + desc + '.csv'\n",
    "    output(output_name, y_pred)\n",
    "\n",
    "def output(path, y_pred):\n",
    "    out_df = pd.DataFrame(y_pred, index=test_df.index, columns=['SalePrice'])\n",
    "    out_df.to_csv(path)"
   ]
  },
  {
   "cell_type": "code",
   "execution_count": 84,
   "metadata": {
    "collapsed": false
   },
   "outputs": [
    {
     "name": "stdout",
     "output_type": "stream",
     "text": [
      "<class 'pandas.core.frame.DataFrame'>\n",
      "Int64Index: 1460 entries, 1 to 1460\n",
      "Columns: 283 entries, MSSubClass to SaleCondition_Partial\n",
      "dtypes: float64(273), int64(10)\n",
      "memory usage: 3.2 MB\n"
     ]
    }
   ],
   "source": [
    "X_train.info()"
   ]
  },
  {
   "cell_type": "code",
   "execution_count": 85,
   "metadata": {
    "collapsed": false
   },
   "outputs": [],
   "source": [
    "from sklearn.ensemble import ExtraTreesRegressor\n",
    "\n",
    "rf = ExtraTreesRegressor(n_estimators=100)\n",
    "rf.fit(X_train, np.log1p(train.SalePrice))\n",
    "importance = pd.Series(rf.feature_importances_, index=X_train.columns).sort_values(ascending=False)"
   ]
  },
  {
   "cell_type": "code",
   "execution_count": 92,
   "metadata": {
    "collapsed": false
   },
   "outputs": [
    {
     "data": {
      "text/plain": [
       "0.12352478058288101"
      ]
     },
     "execution_count": 92,
     "metadata": {},
     "output_type": "execute_result"
    }
   ],
   "source": [
    "from sklearn.linear_model import Lasso\n",
    "\n",
    "lasso = Lasso(alpha=0.0004)\n",
    "\n",
    "model = lasso\n",
    "\n",
    "rmse(model)"
   ]
  },
  {
   "cell_type": "code",
   "execution_count": 97,
   "metadata": {
    "collapsed": false
   },
   "outputs": [
    {
     "data": {
      "text/plain": [
       "0.12513573449081108"
      ]
     },
     "execution_count": 97,
     "metadata": {},
     "output_type": "execute_result"
    }
   ],
   "source": [
    "from sklearn.ensemble import GradientBoostingRegressor\n",
    "\n",
    "gbdt = GradientBoostingRegressor(n_estimators=300)\n",
    "\n",
    "rmse(gbdt)"
   ]
  },
  {
   "cell_type": "code",
   "execution_count": 103,
   "metadata": {
    "collapsed": false
   },
   "outputs": [],
   "source": [
    "lasso.coef_"
   ]
  },
  {
   "cell_type": "code",
   "execution_count": 106,
   "metadata": {
    "collapsed": false
   },
   "outputs": [
    {
     "data": {
      "text/plain": [
       "validArea                0.291525\n",
       "OverallCond              0.240400\n",
       "GrLivArea                0.230246\n",
       "Neighborhood_StoneBr     0.128182\n",
       "Neighborhood_Crawfor     0.111007\n",
       "Neighborhood_NridgHt     0.100705\n",
       "Neighborhood_NoRidge     0.083459\n",
       "LotArea                  0.072468\n",
       "Functional_Typ           0.067375\n",
       "Exterior1st_BrkFace      0.063181\n",
       "RoofMatl_WdShngl         0.062597\n",
       "KitchenQual              0.057000\n",
       "OverallQual              0.054805\n",
       "Neighborhood_BrkSide     0.050710\n",
       "Neighborhood_Somerst     0.048859\n",
       "Condition1_Norm          0.046994\n",
       "BsmtExposure_Gd          0.041031\n",
       "GarageCars               0.037912\n",
       "BsmtFullBath             0.034102\n",
       "HalfBath                 0.033396\n",
       "Fireplaces               0.032968\n",
       "BldgType_1Fam            0.032265\n",
       "GarageQual               0.028676\n",
       "SaleType_New             0.028290\n",
       "LotConfig_CulDSac        0.027256\n",
       "FireplaceQu_Ex           0.027055\n",
       "HeatingQC_Ex             0.026734\n",
       "FullBath                 0.021734\n",
       "Heating_GasW             0.021691\n",
       "BsmtQual                 0.017345\n",
       "                           ...   \n",
       "HouseStyle_2Story       -0.009217\n",
       "Exterior1st_HdBoard     -0.009529\n",
       "MasVnrType_BrkCmn       -0.009616\n",
       "KitchenAbvGr            -0.010093\n",
       "Fence_GdWo              -0.010574\n",
       "BsmtFinType1_Rec        -0.012076\n",
       "LotConfig_FR2           -0.013730\n",
       "BsmtFinType1_LwQ        -0.014259\n",
       "BsmtExposure_No         -0.015137\n",
       "Heating_Grav            -0.015643\n",
       "Condition1_Artery       -0.016101\n",
       "Neighborhood_NWAmes     -0.016304\n",
       "Exterior1st_Wd Sdng     -0.017331\n",
       "SaleType_COD            -0.019151\n",
       "Foundation_BrkTil       -0.022335\n",
       "BldgType_Duplex         -0.022350\n",
       "LandContour_Bnk         -0.022569\n",
       "SaleCondition_Family    -0.023788\n",
       "GarageArea              -0.025086\n",
       "Neighborhood_Mitchel    -0.027440\n",
       "Condition1_RRAe         -0.030269\n",
       "Functional_Maj2         -0.031353\n",
       "SaleType_WD             -0.031477\n",
       "MSZoning_RM             -0.034150\n",
       "CentralAir_N            -0.035459\n",
       "SaleCondition_Abnorml   -0.049130\n",
       "Neighborhood_Edwards    -0.052211\n",
       "Condition2_PosN         -0.249103\n",
       "MSZoning_C (all)        -0.304755\n",
       "RoofMatl_ClyTile        -0.837199\n",
       "dtype: float64"
      ]
     },
     "execution_count": 106,
     "metadata": {},
     "output_type": "execute_result"
    }
   ],
   "source": [
    "a = lasso.fit(X_train, y)\n",
    "coef = pd.Series(a.coef_, index=all_data.columns)\n",
    "coef.sort_values(ascending=False)"
   ]
  },
  {
   "cell_type": "code",
   "execution_count": 123,
   "metadata": {
    "collapsed": false
   },
   "outputs": [
    {
     "data": {
      "text/plain": [
       "Int64Index([1461, 1462, 1463, 1464, 1465, 1466, 1467, 1468, 1469, 1470,\n",
       "            ...\n",
       "            2910, 2911, 2912, 2913, 2914, 2915, 2916, 2917, 2918, 2919],\n",
       "           dtype='int64', name=u'Id', length=1459)"
      ]
     },
     "execution_count": 123,
     "metadata": {},
     "output_type": "execute_result"
    }
   ],
   "source": [
    "test.index"
   ]
  },
  {
   "cell_type": "code",
   "execution_count": 124,
   "metadata": {
    "collapsed": false
   },
   "outputs": [],
   "source": [
    "### prediction\n",
    "model.fit(X_train, y)\n",
    "\n",
    "preds = np.expm1(model.predict(X_test))\n",
    "solution = pd.DataFrame({\"Id\":test.index, \"SalePrice\":preds})\n",
    "solution.to_csv(\"../output/valid_area.csv\", index = False)\n"
   ]
  },
  {
   "cell_type": "code",
   "execution_count": 57,
   "metadata": {
    "collapsed": false
   },
   "outputs": [
    {
     "data": {
      "text/plain": [
       "Id\n",
       "1       36\n",
       "2       36\n",
       "3       36\n",
       "4       35\n",
       "5       37\n",
       "6       32\n",
       "7       38\n",
       "8       35\n",
       "9       32\n",
       "10      33\n",
       "11      31\n",
       "12      41\n",
       "13      32\n",
       "14      36\n",
       "15      32\n",
       "16      36\n",
       "17      34\n",
       "18      24\n",
       "19      32\n",
       "20      32\n",
       "21      38\n",
       "22      36\n",
       "23      37\n",
       "24      34\n",
       "25      36\n",
       "26      37\n",
       "27      34\n",
       "28      38\n",
       "29      32\n",
       "30      29\n",
       "        ..\n",
       "1431    34\n",
       "1432    34\n",
       "1433    29\n",
       "1434    33\n",
       "1435    31\n",
       "1436    39\n",
       "1437    31\n",
       "1438    40\n",
       "1439    34\n",
       "1440    34\n",
       "1441    36\n",
       "1442    35\n",
       "1443    42\n",
       "1444    29\n",
       "1445    36\n",
       "1446    32\n",
       "1447    33\n",
       "1448    37\n",
       "1449    30\n",
       "1450    30\n",
       "1451    26\n",
       "1452    38\n",
       "1453    32\n",
       "1454    26\n",
       "1455    36\n",
       "1456    33\n",
       "1457    34\n",
       "1458    42\n",
       "1459    33\n",
       "1460    33\n",
       "Name: Cond_Qual_score, dtype: int64"
      ]
     },
     "execution_count": 57,
     "metadata": {},
     "output_type": "execute_result"
    }
   ],
   "source": [
    "X_train.Cond_Qual_score"
   ]
  }
 ],
 "metadata": {
  "anaconda-cloud": {},
  "kernelspec": {
   "display_name": "Python [default]",
   "language": "python",
   "name": "python2"
  },
  "language_info": {
   "codemirror_mode": {
    "name": "ipython",
    "version": 2
   },
   "file_extension": ".py",
   "mimetype": "text/x-python",
   "name": "python",
   "nbconvert_exporter": "python",
   "pygments_lexer": "ipython2",
   "version": "2.7.12"
  }
 },
 "nbformat": 4,
 "nbformat_minor": 1
}

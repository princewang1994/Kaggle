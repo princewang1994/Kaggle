{
 "cells": [
  {
   "cell_type": "code",
   "execution_count": 68,
   "metadata": {
    "_cell_guid": "263c5fdb-921a-e764-4b5e-1d55f25687e4",
    "collapsed": false
   },
   "outputs": [],
   "source": [
    "# This Python 3 environment comes with many helpful analytics libraries installed\n",
    "# It is defined by the kaggle/python docker image: https://github.com/kaggle/docker-python\n",
    "# For example, here's several helpful packages to load in \n",
    "\n",
    "import numpy as np # linear algebra\n",
    "import pandas as pd # data processing, CSV file I/O (e.g. pd.read_csv)\n",
    "\n",
    "# Input data files are available in the \"../input/\" directory.\n",
    "# For example, running this (by clicking run or pressing Shift+Enter) will list the files in the input directory\n",
    "\n",
    "from subprocess import check_output\n",
    "\n",
    "# Any results you write to the current directory are saved as output."
   ]
  },
  {
   "cell_type": "code",
   "execution_count": 69,
   "metadata": {
    "_cell_guid": "77404a78-3e07-35ff-d637-affc9c6014e4",
    "collapsed": false
   },
   "outputs": [],
   "source": [
    "from pandas import DataFrame, read_csv\n",
    "import matplotlib.pyplot as plt\n",
    "import numpy as np\n",
    "import pandas as pd\n",
    "import sys\n",
    "import math\n",
    "\n",
    "train = pd.read_csv('../../input/train.csv')\n",
    "test = pd.read_csv('../../input/test.csv')"
   ]
  },
  {
   "cell_type": "code",
   "execution_count": 70,
   "metadata": {
    "_cell_guid": "8b20a3f3-0bdd-da42-56bb-443a3b637060",
    "collapsed": true
   },
   "outputs": [],
   "source": [
    "all_data = pd.concat((train.loc[:,'MSSubClass':'SaleCondition'],\n",
    "                      test.loc[:,'MSSubClass':'SaleCondition']))"
   ]
  },
  {
   "cell_type": "code",
   "execution_count": 71,
   "metadata": {
    "_cell_guid": "2c0441dc-b10a-5fa6-4430-28d9fd7bc3bd",
    "collapsed": true
   },
   "outputs": [],
   "source": [
    "COL_DESCRIPT = {'MSSubClass': 'numeric',\n",
    "                'MSZoning': 'categorical',\n",
    "                'LotFrontage': 'numeric',\n",
    "                'LotArea': 'numeric',\n",
    "                'Street': 'categorical',\n",
    "                'Alley': 'categorical',\n",
    "                'LotShape': {'Reg': 1, 'IR1': 2, 'IR2': 3, 'IR3': 4},\n",
    "                'LandContour': 'categorical',\n",
    "                'Utilities': {'AllPub': 1, 'NoSewr': 2, 'NoSeWa': 3, 'ELO': 4},\n",
    "                'LotConfig': 'categorical',\n",
    "                'LandSlope': {'Gtl': 1, 'Mod': 2, 'Sev': 3},\n",
    "                'Neighborhood': 'categorical',\n",
    "                'Condition1': 'categorical',\n",
    "                'Condition2': 'categorical',\n",
    "                'BldgType': 'categorical',\n",
    "                'HouseStyle': 'categorical',\n",
    "                'OverallQual': 'numeric',\n",
    "                'OverallCond': 'numeric',\n",
    "                'YearBuilt': 'numeric',\n",
    "                'YearRemodAdd': 'numeric',\n",
    "                'RoofStyle': 'categorical',\n",
    "                'RoofMatl': 'categorical',\n",
    "                'Exterior1st': 'categorical',\n",
    "                'Exterior2nd': 'categorical',\n",
    "                'MasVnrType': 'categorical',\n",
    "                'MasVnrArea': 'numeric',\n",
    "                'ExterQual': {'Po': 1, 'Fa': 2, 'TA': 3, 'Gd': 4, 'Ex': 5},\n",
    "                'ExterCond': {'Po': 1, 'Fa': 2, 'TA': 3, 'Gd': 4, 'Ex': 5},\n",
    "                 'Foundation': 'categorical',\n",
    "                'BsmtQual': {'NA': 0, 'Po': 1, 'Fa': 2, 'TA': 3, 'Gd': 4, 'Ex': 5},\n",
    "                'BsmtCond': {'NA': 0, 'Po': 1, 'Fa': 2, 'TA': 3, 'Gd': 4, 'Ex': 5},\n",
    "                'BsmtExposure': {'NA': 0, 'No': 1, 'Mn': 2, 'Av': 3, 'Gd': 4},\n",
    "                'BsmtFinType1': {'NA': 0, 'Unf': 1, 'LwQ': 2, 'Rec': 3, 'BLQ': 4, 'ALQ': 5, 'GLQ': 6},\n",
    "                'BsmtFinSF1': 'numeric',\n",
    "                'BsmtFinType2': {'NA': 0, 'Unf': 1, 'LwQ': 2, 'Rec': 3, 'BLQ': 4, 'ALQ': 5, 'GLQ': 6},\n",
    "                'BsmtFinSF2': 'numeric',\n",
    "                'BsmtUnfSF': 'numeric',\n",
    "                'TotalBsmtSF': 'numeric',\n",
    "                'Heating': 'categorical',\n",
    "                'HeatingQC': {'Po': 1, 'Fa': 2, 'TA': 3, 'Gd': 4, 'Ex': 5},\n",
    "                'CentralAir': 'categorical',\n",
    "                'Electrical': 'categorical',\n",
    "                '1stFlrSF': 'numeric',\n",
    "                '2ndFlrSF': 'numeric',\n",
    "                'LowQualFinSF': 'numeric',\n",
    "                'GrLivArea': 'numeric',\n",
    "                'BsmtFullBath': 'numeric',\n",
    "                'BsmtHalfBath': 'numeric',\n",
    "                'FullBath': 'numeric',\n",
    "                'HalfBath': 'numeric',\n",
    "                'Bedroom': 'numeric',\n",
    "                'Kitchen': 'numeric',\n",
    "                'KitchenQual': {'Po': 1, 'Fa': 2, 'TA': 3, 'Gd': 4, 'Ex': 5},\n",
    "                'TotRmsAbvGrd': 'numeric',\n",
    "                'Functional': 'categorical',\n",
    "                'Fireplaces': 'numeric',\n",
    "                'FireplaceQu': {'NA': 0, 'Po': 1, 'Fa': 2, 'TA': 3, 'Gd': 4, 'Ex': 5},\n",
    "                'GarageType': 'categorical',\n",
    "                'GarageYrBlt': 'numeric',\n",
    "                'GarageFinish': {'NA': 0, 'Unf': 1, 'RFn': 2, 'Fin': 3},\n",
    "                'GarageCars': 'numeric',\n",
    "                'GarageArea': 'numeric',\n",
    "                'GarageQual': {'NA': 0, 'Po': 1, 'Fa': 2, 'TA': 3, 'Gd': 4, 'Ex': 5},\n",
    "                'GarageCond': {'NA': 0, 'Po': 1, 'Fa': 2, 'TA': 3, 'Gd': 4, 'Ex': 5},\n",
    "                'PavedDrive': {'N': 1, 'P': 2, 'Y': 3},\n",
    "                'WoodDeckSF': 'numeric',\n",
    "                'OpenPorchSF': 'numeric',\n",
    "                'EnclosedPorch': 'numeric',\n",
    "                '3SsnPorch': 'numeric',\n",
    "                'ScreenPorch': 'numeric',\n",
    "                'PoolArea': 'numeric',\n",
    "                'PoolQC': {'NA': 0, 'Fa': 1, 'TA': 2, 'Gd': 3, 'Ex': 4},\n",
    "                'Fence': {'NA': 0, 'MnWw': 1, 'GdWo': 2, 'MnPrv': 3, 'GdPrv': 4},\n",
    "                'MiscFeature': 'categorical',\n",
    "                'MiscVal': 'numeric',\n",
    "                'MoSold': 'categorical',\n",
    "                'YrSold': 'numeric',\n",
    "                'SaleType': 'categorical',\n",
    "                'SaleCondition': 'categorical'}\n",
    "\n",
    "def get_ordinal_cols():\n",
    "    return [c for c in COL_DESCRIPT if isinstance(COL_DESCRIPT[c], dict)]\n",
    "\n",
    "def handle_ordinal(X):\n",
    "    for col in get_ordinal_cols():\n",
    "        X[col] = X[col].map(lambda x: COL_DESCRIPT[col].get(x, 0))\n",
    "    return X"
   ]
  },
  {
   "cell_type": "code",
   "execution_count": 72,
   "metadata": {
    "_cell_guid": "aeadee6a-18a4-8479-a144-039e37de040e",
    "collapsed": true
   },
   "outputs": [],
   "source": [
    "\n",
    "\n",
    "\n",
    "\n",
    "from scipy.stats import skew\n",
    "\n",
    "#log transform the target:\n",
    "train[\"SalePrice\"] = np.log1p(train[\"SalePrice\"])\n",
    "\n",
    "\n",
    "\n",
    "#log transform skewed numeric features:\n",
    "numeric_feats = all_data.dtypes[all_data.dtypes != \"object\"].index\n",
    "numeric_feats = numeric_feats[1:]\n",
    "\n",
    "skewed_feats = train[numeric_feats].apply(lambda x: skew(x.dropna())) #compute skewness\n",
    "skewed_feats = skewed_feats[skewed_feats > 0.75]\n",
    "skewed_feats = skewed_feats.index\n",
    "\n",
    "all_data[skewed_feats] = np.log1p(all_data[skewed_feats])\n",
    "\n",
    "all_data=handle_ordinal(all_data)\n",
    "\n",
    "\n",
    "\n",
    "\n",
    "all_data['Age'] = all_data['YrSold'] - all_data['YearBuilt']\n",
    "all_data['AgeRemod'] = all_data['YrSold'] - all_data['YearRemodAdd']\n",
    "all_data['Baths'] = all_data['FullBath'] + all_data['HalfBath']\n",
    "all_data['BsmtBaths'] = all_data['BsmtFullBath'] + all_data['BsmtHalfBath']\n",
    "all_data['OverallQual_Square']=all_data['OverallQual']*all_data['OverallQual']\n",
    "all_data['OverallQual_3']=all_data['OverallQual']*all_data['OverallQual']*all_data['OverallQual']\n",
    "all_data['OverallQual_exp']=np.exp(all_data['OverallQual'])\n",
    "all_data['GrLivArea_Square']=all_data['GrLivArea']*all_data['GrLivArea']\n",
    "all_data['GrLivArea_3']=all_data['GrLivArea']*all_data['GrLivArea']*all_data['GrLivArea']\n",
    "all_data['GrLivArea_exp']=np.exp(all_data['GrLivArea'])\n",
    "all_data['GrLivArea_log']=np.log(all_data['GrLivArea'])\n",
    "all_data['TotalBsmtSF_/GrLivArea']=all_data['TotalBsmtSF']/all_data['GrLivArea']\n",
    "all_data['OverallCond_sqrt']=np.sqrt(all_data['OverallCond'])\n",
    "all_data['OverallCond_square']=all_data['OverallCond']*all_data['OverallCond']\n",
    "all_data['LotArea_sqrt']=np.sqrt(all_data['LotArea'])\n",
    "all_data['1stFlrSF_sqrt']=np.sqrt(all_data['1stFlrSF'])\n",
    "#del all_data['1stFlrSF']\n",
    "all_data['TotRmsAbvGrd_sqrt']=np.sqrt(all_data['TotRmsAbvGrd'])\n",
    "#del all_data['TotRmsAbvGrd']\n",
    "\n",
    "stringMS = []\n",
    "for el in np.array(all_data['MSSubClass']):\n",
    "    stringMS.append(str(el))\n",
    "   \n",
    "all_data['MSSubClass'] = stringMS\n",
    "all_data = pd.get_dummies(all_data)\n",
    "\n",
    "all_data = all_data.fillna(all_data.mean())"
   ]
  },
  {
   "cell_type": "code",
   "execution_count": 73,
   "metadata": {
    "_cell_guid": "eec3812b-184b-3b88-0ee8-ebbd953b7798",
    "collapsed": false
   },
   "outputs": [
    {
     "data": {
      "text/plain": [
       "Index([u'LotFrontage', u'LotArea', u'OverallQual', u'OverallCond',\n",
       "       u'YearBuilt', u'YearRemodAdd', u'MasVnrArea', u'BsmtFinSF1',\n",
       "       u'BsmtFinSF2', u'BsmtUnfSF', u'TotalBsmtSF', u'1stFlrSF', u'2ndFlrSF',\n",
       "       u'LowQualFinSF', u'GrLivArea', u'BsmtFullBath', u'BsmtHalfBath',\n",
       "       u'FullBath', u'HalfBath', u'BedroomAbvGr', u'KitchenAbvGr',\n",
       "       u'TotRmsAbvGrd', u'Fireplaces', u'GarageYrBlt', u'GarageCars',\n",
       "       u'GarageArea', u'WoodDeckSF', u'OpenPorchSF', u'EnclosedPorch',\n",
       "       u'3SsnPorch', u'ScreenPorch', u'PoolArea', u'MiscVal', u'MoSold',\n",
       "       u'YrSold'],\n",
       "      dtype='object')"
      ]
     },
     "execution_count": 73,
     "metadata": {},
     "output_type": "execute_result"
    }
   ],
   "source": [
    "numeric_feats"
   ]
  },
  {
   "cell_type": "code",
   "execution_count": 74,
   "metadata": {
    "_cell_guid": "56a3bee5-cf04-e85d-bd89-c070231b758e",
    "collapsed": true
   },
   "outputs": [],
   "source": [
    "#all_data.loc[all_data['YearRemodAdd']==all_data['YearBuilt'],'YearRemodAdd']=0\n",
    "#all_data.loc[all_data['YearRemodAdd']!=0,'YearRemodAdd']=1"
   ]
  },
  {
   "cell_type": "code",
   "execution_count": null,
   "metadata": {
    "_cell_guid": "6ff2ef0b-5b4f-9f52-32f7-8b2c959b46ee",
    "collapsed": true
   },
   "outputs": [],
   "source": []
  },
  {
   "cell_type": "code",
   "execution_count": 75,
   "metadata": {
    "_cell_guid": "cee74033-b3d8-04b2-0b29-c433eafcaf9d",
    "collapsed": false
   },
   "outputs": [],
   "source": [
    "from sklearn.cross_validation import cross_val_score\n",
    "\n",
    "def rmse(model):\n",
    "    rmse = np.sqrt(-cross_val_score(model, X_train, y=y, scoring='mean_squared_error'))\n",
    "    return rmse.mean()\n",
    "\n",
    "def get_result(model, desc):\n",
    "    y_pred = np.expm1(model.predict(X_test))\n",
    "    output_name = '../output/' + desc + '.csv'\n",
    "    output(output_name, y_pred)\n",
    "\n",
    "def output(path, y_pred):\n",
    "    out_df = pd.DataFrame(y_pred, index=X_test.index, columns=['SalePrice'])\n",
    "    out_df.to_csv(path)"
   ]
  },
  {
   "cell_type": "code",
   "execution_count": 76,
   "metadata": {
    "_cell_guid": "f44d7839-9910-6056-e286-a22feff065a4",
    "collapsed": true
   },
   "outputs": [],
   "source": [
    "X_train = all_data[:train.shape[0]]\n",
    "X_test = all_data[train.shape[0]:]\n",
    "y = train.SalePrice"
   ]
  },
  {
   "cell_type": "code",
   "execution_count": 91,
   "metadata": {
    "_cell_guid": "4364948e-a264-0112-14e2-80a76ef366b8",
    "collapsed": false
   },
   "outputs": [],
   "source": [
    "import xgboost\n",
    "model = xgboost.XGBRegressor(colsample_bytree=0.4,\n",
    "                 gamma=0.030,                 \n",
    "                 learning_rate=0.07,\n",
    "                 max_depth=5,\n",
    "                 min_child_weight=1.5,\n",
    "                 n_estimators=10000,                                                                    \n",
    "                 reg_alpha=0.75,\n",
    "                 reg_lambda=0.45,\n",
    "                 subsample=0.95)"
   ]
  },
  {
   "cell_type": "code",
   "execution_count": 92,
   "metadata": {
    "collapsed": false
   },
   "outputs": [
    {
     "data": {
      "text/plain": [
       "0.12689979658514211"
      ]
     },
     "execution_count": 92,
     "metadata": {},
     "output_type": "execute_result"
    }
   ],
   "source": [
    "rmse(model)"
   ]
  },
  {
   "cell_type": "code",
   "execution_count": 93,
   "metadata": {
    "_cell_guid": "0fab00cd-26e2-dc2d-9fe0-0aca7e2ddc11",
    "collapsed": true
   },
   "outputs": [],
   "source": [
    "from sklearn.linear_model import Ridge\n",
    "model2=Ridge(alpha=10)"
   ]
  },
  {
   "cell_type": "code",
   "execution_count": 94,
   "metadata": {
    "_cell_guid": "1bdbfef4-3327-32aa-c4c7-75282b754531",
    "collapsed": true
   },
   "outputs": [],
   "source": [
    "def evaluate(model1, model2, X_training, y_training, X_valid, y_valid):\n",
    "    model1.fit(X_training,  y_training)\n",
    "    model2.fit(X_training,  y_training)\n",
    "    preds1 = model1.predict(X_valid)\n",
    "    preds2 = model2.predict(X_valid)\n",
    "    preds=(preds1+preds2)/2\n",
    "    #rmse = math.sqrt(np.sum(np.minimum(abs(preds1-y_valid), abs(preds2-y_valid))*np.minimum(abs(preds1-y_valid), abs(preds2-y_valid))/len(preds1)))\n",
    "    rmse= math.sqrt(sum((preds-y_valid)*(preds-y_valid)/len(preds)))\n",
    "    return rmse"
   ]
  },
  {
   "cell_type": "code",
   "execution_count": 95,
   "metadata": {
    "_cell_guid": "11a73277-3e91-eb54-d1cf-685678a829d1",
    "collapsed": true
   },
   "outputs": [],
   "source": [
    "def calculateRes():\n",
    "    meanRes=0\n",
    "    for i in range(0, 10):\n",
    "        X_training = pd.concat([X_train[0:i*146], X_train[(i+1)*146:1460]])\n",
    "        X_valid = X_train[i*146:(i+1)*146]\n",
    "        y_training = pd.concat([y[0:i*146], y[(i+1)*146:1460]])\n",
    "        y_valid = y[i*146:(i+1)*146]\n",
    "        alphas = [0.05, 0.1, 0.3, 1, 3, 5, 10, 15, 30, 50, 75]\n",
    "        #cv_ridge = [rmse_cv(Ridge(alpha =alpha), X_training, y_training, X_valid, y_valid)\n",
    "        #            for alpha in alphas]\n",
    "        res = evaluate(model, model2, X_training, y_training, X_valid, y_valid)\n",
    "        print(res)\n",
    "        #cv_ridge = pd.Series(cv_ridge, index = alphas)\n",
    "        #print(cv_ridge.argmin())\n",
    "        #res = cv_ridge.min()\n",
    "        meanRes+=res\n",
    "    print(meanRes/10)\n",
    "    return(meanRes/10)"
   ]
  },
  {
   "cell_type": "code",
   "execution_count": 98,
   "metadata": {
    "collapsed": false
   },
   "outputs": [
    {
     "name": "stdout",
     "output_type": "stream",
     "text": [
      "0.111833276042\n",
      "0.0886033206743\n",
      "0.100333035993\n",
      "0.141089071397\n",
      "0.140314792191\n",
      "0.0996748659652\n",
      "0.115961830281\n",
      "0.0947141383439\n",
      "0.138351843744\n",
      "0.122409999574\n",
      "0.115328617421\n"
     ]
    },
    {
     "data": {
      "text/plain": [
       "0.11532861742062131"
      ]
     },
     "execution_count": 98,
     "metadata": {},
     "output_type": "execute_result"
    }
   ],
   "source": [
    "calculateRes()"
   ]
  },
  {
   "cell_type": "code",
   "execution_count": 96,
   "metadata": {
    "_cell_guid": "c1c38401-486d-3074-96d1-be1bf1066977",
    "collapsed": true
   },
   "outputs": [],
   "source": [
    "def calculatePreds(model):\n",
    "    preds = np.zeros(0)\n",
    "    for i in range(0, 10):\n",
    "        X_training = pd.concat([X_train[0:i*146], X_train[(i+1)*146:1460]])\n",
    "        X_valid = X_train[i*146:(i+1)*146]\n",
    "        y_training = pd.concat([y[0:i*146], y[(i+1)*146:1460]])\n",
    "        y_valid = y[i*146:(i+1)*146]\n",
    "        alphas = [0.05, 0.1, 0.3, 1, 3, 5, 10, 15, 30, 50, 75]\n",
    "        #cv_ridge = [rmse_cv(Ridge(alpha =alpha), X_training, y_training, X_valid, y_valid)\n",
    "        #            for alpha in alphas]\n",
    "        preds = np.concatenate((preds,getpreds(model, X_training, y_training, X_valid, y_valid)), axis=0)\n",
    "        #cv_ridge = pd.Series(cv_ridge, index = alphas)\n",
    "        #print(cv_ridge.argmin())\n",
    "        #res = cv_ridge.min()\n",
    "    return(preds)\n",
    "\n",
    "def getpreds(model, X_training, y_training, X_valid, y_valid):\n",
    "    model.fit(X_training,  y_training)\n",
    "    preds = model.predict(X_valid)\n",
    "    return(preds)"
   ]
  },
  {
   "cell_type": "code",
   "execution_count": 97,
   "metadata": {
    "_cell_guid": "4ac87284-0e3f-c967-48fd-f35dfcb90f23",
    "collapsed": false
   },
   "outputs": [
    {
     "data": {
      "text/plain": [
       "0.11206330667269984"
      ]
     },
     "execution_count": 97,
     "metadata": {},
     "output_type": "execute_result"
    }
   ],
   "source": [
    "split = 1350\n",
    "evaluate(model, model2, X_training=X_train[:split], y_training=y[:split],\n",
    "         X_valid=X_train[split:], y_valid=y[split:])"
   ]
  },
  {
   "cell_type": "code",
   "execution_count": 25,
   "metadata": {
    "_cell_guid": "24712dfb-c621-ae0d-c3b7-414270be2d38",
    "collapsed": true
   },
   "outputs": [],
   "source": [
    "model.fit(X_train,  y)\n",
    "preds1 = model.predict(X_test)"
   ]
  },
  {
   "cell_type": "code",
   "execution_count": 26,
   "metadata": {
    "_cell_guid": "ac21d998-dc39-2a50-7073-65c3b7429d79",
    "collapsed": true
   },
   "outputs": [],
   "source": [
    "model2.fit(X_train,  y)\n",
    "preds2 = model2.predict(X_test)"
   ]
  },
  {
   "cell_type": "code",
   "execution_count": 27,
   "metadata": {
    "_cell_guid": "10a82ab7-0bd9-7462-73ae-339d271b0aab",
    "collapsed": true
   },
   "outputs": [],
   "source": [
    "preds = (preds1+preds2)/2"
   ]
  },
  {
   "cell_type": "code",
   "execution_count": 19,
   "metadata": {
    "_cell_guid": "2c2fd83d-e7db-8d1b-939a-6f06af86c70f",
    "collapsed": true
   },
   "outputs": [],
   "source": [
    "d = {'Id':test.Id, 'SalePrice':np.exp(preds)}"
   ]
  },
  {
   "cell_type": "code",
   "execution_count": 20,
   "metadata": {
    "_cell_guid": "de839e47-6868-015c-2950-938222624a34",
    "collapsed": true
   },
   "outputs": [],
   "source": [
    "submit = pd.DataFrame(d)"
   ]
  },
  {
   "cell_type": "code",
   "execution_count": 21,
   "metadata": {
    "_cell_guid": "5b0d3996-da4c-092f-9daf-7fdab13bce81",
    "collapsed": false
   },
   "outputs": [
    {
     "data": {
      "text/html": [
       "<div>\n",
       "<table border=\"1\" class=\"dataframe\">\n",
       "  <thead>\n",
       "    <tr style=\"text-align: right;\">\n",
       "      <th></th>\n",
       "      <th>Id</th>\n",
       "      <th>SalePrice</th>\n",
       "    </tr>\n",
       "  </thead>\n",
       "  <tbody>\n",
       "    <tr>\n",
       "      <th>0</th>\n",
       "      <td>1461</td>\n",
       "      <td>117614.143915</td>\n",
       "    </tr>\n",
       "    <tr>\n",
       "      <th>1</th>\n",
       "      <td>1462</td>\n",
       "      <td>159129.734683</td>\n",
       "    </tr>\n",
       "    <tr>\n",
       "      <th>2</th>\n",
       "      <td>1463</td>\n",
       "      <td>181515.318984</td>\n",
       "    </tr>\n",
       "    <tr>\n",
       "      <th>3</th>\n",
       "      <td>1464</td>\n",
       "      <td>191232.401645</td>\n",
       "    </tr>\n",
       "    <tr>\n",
       "      <th>4</th>\n",
       "      <td>1465</td>\n",
       "      <td>198403.218128</td>\n",
       "    </tr>\n",
       "  </tbody>\n",
       "</table>\n",
       "</div>"
      ],
      "text/plain": [
       "     Id      SalePrice\n",
       "0  1461  117614.143915\n",
       "1  1462  159129.734683\n",
       "2  1463  181515.318984\n",
       "3  1464  191232.401645\n",
       "4  1465  198403.218128"
      ]
     },
     "execution_count": 21,
     "metadata": {},
     "output_type": "execute_result"
    }
   ],
   "source": [
    "submit.head()"
   ]
  },
  {
   "cell_type": "code",
   "execution_count": 22,
   "metadata": {
    "_cell_guid": "7889b04e-3a52-887d-56b1-3ee48dce1025",
    "collapsed": true
   },
   "outputs": [],
   "source": [
    "submit.to_csv('xgBoostRidgeSubmission2.csv', index=False)"
   ]
  },
  {
   "cell_type": "code",
   "execution_count": 47,
   "metadata": {
    "collapsed": false
   },
   "outputs": [
    {
     "data": {
      "text/plain": [
       "(1460, 260)"
      ]
     },
     "execution_count": 47,
     "metadata": {},
     "output_type": "execute_result"
    }
   ],
   "source": [
    "X_train.shape"
   ]
  }
 ],
 "metadata": {
  "_change_revision": 5,
  "_is_fork": false,
  "anaconda-cloud": {},
  "kernelspec": {
   "display_name": "Python [default]",
   "language": "python",
   "name": "python2"
  },
  "language_info": {
   "codemirror_mode": {
    "name": "ipython",
    "version": 2
   },
   "file_extension": ".py",
   "mimetype": "text/x-python",
   "name": "python",
   "nbconvert_exporter": "python",
   "pygments_lexer": "ipython2",
   "version": "2.7.12"
  }
 },
 "nbformat": 4,
 "nbformat_minor": 0
}

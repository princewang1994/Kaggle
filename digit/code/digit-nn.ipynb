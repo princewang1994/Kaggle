{
 "cells": [
  {
   "cell_type": "code",
   "execution_count": 1,
   "metadata": {
    "collapsed": false
   },
   "outputs": [],
   "source": [
    "%matplotlib inline \n",
    "import matplotlib.pyplot as plt\n",
    "import tensorflow as tf\n",
    "import numpy as np\n",
    "import pandas as pd\n",
    "import seaborn as sns"
   ]
  },
  {
   "cell_type": "code",
   "execution_count": 2,
   "metadata": {
    "collapsed": false
   },
   "outputs": [],
   "source": [
    "fopen = open('../dataset/digit/train.csv', 'r')\n",
    "train_df = pd.read_csv(fopen)\n",
    "fopen.close()\n",
    "fopen = open('../dataset/digit/test.csv', 'r')\n",
    "test_df = pd.read_csv(fopen)\n",
    "fopen.close()"
   ]
  },
  {
   "cell_type": "code",
   "execution_count": 3,
   "metadata": {
    "collapsed": false
   },
   "outputs": [
    {
     "name": "stdout",
     "output_type": "stream",
     "text": [
      "<class 'pandas.core.frame.DataFrame'>\n",
      "RangeIndex: 42000 entries, 0 to 41999\n",
      "Columns: 785 entries, label to pixel783\n",
      "dtypes: int64(785)\n",
      "memory usage: 251.5 MB\n",
      "----------------------\n",
      "<class 'pandas.core.frame.DataFrame'>\n",
      "RangeIndex: 28000 entries, 0 to 27999\n",
      "Columns: 784 entries, pixel0 to pixel783\n",
      "dtypes: int64(784)\n",
      "memory usage: 167.5 MB\n"
     ]
    }
   ],
   "source": [
    "train_df.info()\n",
    "print '----------------------'\n",
    "test_df.info()"
   ]
  },
  {
   "cell_type": "code",
   "execution_count": 5,
   "metadata": {
    "collapsed": false
   },
   "outputs": [
    {
     "ename": "AttributeError",
     "evalue": "'DataFrame' object has no attribute 'label'",
     "output_type": "error",
     "traceback": [
      "\u001b[0;31m---------------------------------------------------------------------------\u001b[0m",
      "\u001b[0;31mAttributeError\u001b[0m                            Traceback (most recent call last)",
      "\u001b[0;32m<ipython-input-5-cfaf8a7c7ce9>\u001b[0m in \u001b[0;36m<module>\u001b[0;34m()\u001b[0m\n\u001b[0;32m----> 1\u001b[0;31m \u001b[0mtrain_label\u001b[0m \u001b[0;34m=\u001b[0m \u001b[0mtrain_df\u001b[0m\u001b[0;34m.\u001b[0m\u001b[0mlabel\u001b[0m\u001b[0;34m\u001b[0m\u001b[0m\n\u001b[0m\u001b[1;32m      2\u001b[0m \u001b[0mtrain_df\u001b[0m\u001b[0;34m.\u001b[0m\u001b[0mdrop\u001b[0m\u001b[0;34m(\u001b[0m\u001b[0;34m[\u001b[0m\u001b[0;34m'label'\u001b[0m\u001b[0;34m]\u001b[0m\u001b[0;34m,\u001b[0m \u001b[0minplace\u001b[0m\u001b[0;34m=\u001b[0m\u001b[0mTrue\u001b[0m\u001b[0;34m,\u001b[0m \u001b[0maxis\u001b[0m\u001b[0;34m=\u001b[0m\u001b[0;36m1\u001b[0m\u001b[0;34m)\u001b[0m\u001b[0;34m\u001b[0m\u001b[0m\n\u001b[1;32m      3\u001b[0m \u001b[0;34m\u001b[0m\u001b[0m\n\u001b[1;32m      4\u001b[0m \u001b[0mtrain_arr\u001b[0m \u001b[0;34m=\u001b[0m \u001b[0mtrain_df\u001b[0m\u001b[0;34m.\u001b[0m\u001b[0mvalues\u001b[0m\u001b[0;34m\u001b[0m\u001b[0m\n\u001b[1;32m      5\u001b[0m \u001b[0mtest_arr\u001b[0m \u001b[0;34m=\u001b[0m \u001b[0mtest_df\u001b[0m\u001b[0;34m.\u001b[0m\u001b[0mvalues\u001b[0m\u001b[0;34m\u001b[0m\u001b[0m\n",
      "\u001b[0;32m/usr/local/Anaconda2/lib/python2.7/site-packages/pandas/core/generic.pyc\u001b[0m in \u001b[0;36m__getattr__\u001b[0;34m(self, name)\u001b[0m\n\u001b[1;32m   2670\u001b[0m             \u001b[0;32mif\u001b[0m \u001b[0mname\u001b[0m \u001b[0;32min\u001b[0m \u001b[0mself\u001b[0m\u001b[0;34m.\u001b[0m\u001b[0m_info_axis\u001b[0m\u001b[0;34m:\u001b[0m\u001b[0;34m\u001b[0m\u001b[0m\n\u001b[1;32m   2671\u001b[0m                 \u001b[0;32mreturn\u001b[0m \u001b[0mself\u001b[0m\u001b[0;34m[\u001b[0m\u001b[0mname\u001b[0m\u001b[0;34m]\u001b[0m\u001b[0;34m\u001b[0m\u001b[0m\n\u001b[0;32m-> 2672\u001b[0;31m             \u001b[0;32mreturn\u001b[0m \u001b[0mobject\u001b[0m\u001b[0;34m.\u001b[0m\u001b[0m__getattribute__\u001b[0m\u001b[0;34m(\u001b[0m\u001b[0mself\u001b[0m\u001b[0;34m,\u001b[0m \u001b[0mname\u001b[0m\u001b[0;34m)\u001b[0m\u001b[0;34m\u001b[0m\u001b[0m\n\u001b[0m\u001b[1;32m   2673\u001b[0m \u001b[0;34m\u001b[0m\u001b[0m\n\u001b[1;32m   2674\u001b[0m     \u001b[0;32mdef\u001b[0m \u001b[0m__setattr__\u001b[0m\u001b[0;34m(\u001b[0m\u001b[0mself\u001b[0m\u001b[0;34m,\u001b[0m \u001b[0mname\u001b[0m\u001b[0;34m,\u001b[0m \u001b[0mvalue\u001b[0m\u001b[0;34m)\u001b[0m\u001b[0;34m:\u001b[0m\u001b[0;34m\u001b[0m\u001b[0m\n",
      "\u001b[0;31mAttributeError\u001b[0m: 'DataFrame' object has no attribute 'label'"
     ]
    }
   ],
   "source": [
    "train_label = train_df.label \n",
    "train_df.drop(['label'], inplace=True, axis=1)\n",
    "\n",
    "train_arr = train_df.values\n",
    "test_arr = test_df.values"
   ]
  },
  {
   "cell_type": "code",
   "execution_count": 30,
   "metadata": {
    "collapsed": false
   },
   "outputs": [],
   "source": [
    "from sklearn.preprocessing import StandardScaler\n",
    "from sklearn.cross_validation import train_test_split\n",
    "X_train, X_test, y_train, y_test = train_test_split(train_arr, train_label, test_size=0.05, random_state=42)\n",
    "n_sample = X_train.shape[0]"
   ]
  },
  {
   "cell_type": "code",
   "execution_count": 20,
   "metadata": {
    "collapsed": false
   },
   "outputs": [],
   "source": [
    "def add_layer(input, input_size, output_size, activation_func=None):\n",
    "    w = tf.Variable(tf.random_normal([input_size, output_size]))\n",
    "    b = tf.Variable(tf.random_normal([1, output_size]))\n",
    "    u = tf.matmul(input, w) + b\n",
    "    return activation_func(u) if activation_func else u\n"
   ]
  },
  {
   "cell_type": "code",
   "execution_count": 21,
   "metadata": {
    "collapsed": false
   },
   "outputs": [],
   "source": [
    "xs = tf.placeholder(tf.float32, [None, 784])\n",
    "ys = tf.placeholder(tf.float32, [None, 10])\n",
    "\n",
    "hidden_layer = add_layer(xs, 784, 500, activation_func=tf.nn.sigmoid)\n",
    "output_layer = add_layer(hidden_layer, 500, 10)\n",
    "loss = tf.reduce_mean(tf.nn.softmax_cross_entropy_with_logits(output_layer, ys))\n",
    "opt = tf.train.AdamOptimizer(0.1).minimize(loss)"
   ]
  },
  {
   "cell_type": "code",
   "execution_count": 31,
   "metadata": {
    "collapsed": false
   },
   "outputs": [
    {
     "data": {
      "text/plain": [
       "1554     3\n",
       "4273     3\n",
       "8960     4\n",
       "24517    3\n",
       "3308     8\n",
       "41181    7\n",
       "35423    8\n",
       "11042    8\n",
       "23077    3\n",
       "3016     2\n",
       "11178    7\n",
       "20120    6\n",
       "1975     7\n",
       "11546    8\n",
       "32104    8\n",
       "35251    7\n",
       "24887    0\n",
       "37541    7\n",
       "40174    3\n",
       "37407    1\n",
       "7330     4\n",
       "33825    9\n",
       "32597    1\n",
       "30011    1\n",
       "2645     8\n",
       "7940     2\n",
       "3698     4\n",
       "7193     1\n",
       "17512    3\n",
       "8426     3\n",
       "        ..\n",
       "31445    0\n",
       "6262     3\n",
       "12681    6\n",
       "39201    5\n",
       "4775     5\n",
       "12033    6\n",
       "31060    2\n",
       "22519    9\n",
       "9134     3\n",
       "9672     5\n",
       "816      7\n",
       "3248     8\n",
       "41547    9\n",
       "18266    9\n",
       "35875    5\n",
       "26554    5\n",
       "32435    6\n",
       "26161    3\n",
       "24362    1\n",
       "40066    0\n",
       "20777    9\n",
       "34845    3\n",
       "4608     0\n",
       "6756     4\n",
       "5925     6\n",
       "1791     1\n",
       "30139    3\n",
       "29755    9\n",
       "12928    1\n",
       "21523    5\n",
       "Name: label, dtype: int64"
      ]
     },
     "execution_count": 31,
     "metadata": {},
     "output_type": "execute_result"
    }
   ],
   "source": [
    "step = 0\n",
    "y_train[step%n_sample : step%n_sample + 100]"
   ]
  },
  {
   "cell_type": "code",
   "execution_count": 46,
   "metadata": {
    "collapsed": false
   },
   "outputs": [
    {
     "name": "stdout",
     "output_type": "stream",
     "text": [
      "(0, 22.272738)\n",
      "(100, 0.15622161)\n",
      "(200, 0.1491942)\n",
      "(300, 0.26723871)\n",
      "(400, 0.060141686)\n",
      "(500, 0.29346019)\n",
      "(600, 0.18936744)\n",
      "(700, 0.70789093)\n",
      "(800, 0.39922029)\n",
      "(900, 0.30407006)\n",
      "(1000, 0.19327568)\n",
      "(1100, 0.43512046)\n",
      "(1200, 0.24398096)\n",
      "(1300, 0.5277558)\n",
      "(1400, 2.100426)\n",
      "(1500, 0.57479268)\n",
      "(1600, 1.0389827)\n",
      "(1700, 0.57147431)\n",
      "(1800, 0.67697328)\n",
      "(1900, 0.6864844)\n",
      "(2000, 3.8736517)\n",
      "(2100, 0.74553758)\n",
      "(2200, 3.1921484)\n",
      "(2300, 0.85208815)\n",
      "(2400, 0.6343872)\n",
      "(2500, 1.3404731)\n",
      "(2600, 0.92087537)\n",
      "(2700, 3.4219632)\n",
      "(2800, 0.85318911)\n",
      "(2900, 0.88505936)\n",
      "(3000, 0.59374356)\n",
      "(3100, 1.3189768)\n",
      "(3200, 0.88713056)\n",
      "(3300, 1.2119373)\n",
      "(3400, 2.1113052)\n",
      "(3500, 0.6766156)\n",
      "(3600, 0.70722079)\n",
      "(3700, 0.68960977)\n",
      "(3800, 9.7360439)\n",
      "(3900, 1.118916)\n",
      "(4000, 0.82525516)\n",
      "(4100, 1.1577903)\n",
      "(4200, 2.1815917)\n",
      "(4300, 1.6483033)\n",
      "(4400, 0.75495821)\n",
      "(4500, 1.2328075)\n",
      "(4600, 0.9283278)\n",
      "(4700, 1.6938574)\n",
      "(4800, 1.2955245)\n",
      "(4900, 0.92490387)\n"
     ]
    }
   ],
   "source": [
    "\n",
    "with tf.Session() as sess:\n",
    "    sess.run(tf.initialize_all_variables())\n",
    "    for step in xrange(5000):\n",
    "        data_train = X_train[step%n_sample : step%n_sample + 200, :]\n",
    "        label_train = y_train[step%n_sample : step%n_sample + 200]\n",
    "        sess.run(opt, feed_dict={ xs : data_train, ys : pd.get_dummies(label_train).values })\n",
    "        if step % 100 == 0:\n",
    "            print (step, sess.run(loss, feed_dict={ xs : data_train, ys : pd.get_dummies(label_train).values }))\n",
    "    predict = sess.run(tf.arg_max(output_layer, 1), feed_dict={ xs : X_test })"
   ]
  },
  {
   "cell_type": "code",
   "execution_count": 47,
   "metadata": {
    "collapsed": false
   },
   "outputs": [
    {
     "name": "stdout",
     "output_type": "stream",
     "text": [
      "             precision    recall  f1-score   support\n",
      "\n",
      "          0       0.67      0.56      0.61       216\n",
      "          1       0.94      0.91      0.92       234\n",
      "          2       0.61      0.52      0.56       222\n",
      "          3       0.63      0.49      0.55       260\n",
      "          4       0.53      0.41      0.47       196\n",
      "          5       0.38      0.18      0.25       160\n",
      "          6       0.70      0.68      0.69       199\n",
      "          7       0.67      0.34      0.45       230\n",
      "          8       0.35      0.81      0.48       191\n",
      "          9       0.38      0.62      0.48       192\n",
      "\n",
      "avg / total       0.60      0.56      0.56      2100\n",
      "\n"
     ]
    }
   ],
   "source": [
    "from sklearn.metrics import classification_report\n",
    "print classification_report(y_test, predict)"
   ]
  },
  {
   "cell_type": "code",
   "execution_count": 39,
   "metadata": {
    "collapsed": false
   },
   "outputs": [
    {
     "data": {
      "text/plain": [
       "(2100,)"
      ]
     },
     "execution_count": 39,
     "metadata": {},
     "output_type": "execute_result"
    }
   ],
   "source": []
  },
  {
   "cell_type": "code",
   "execution_count": 78,
   "metadata": {
    "collapsed": false
   },
   "outputs": [],
   "source": [
    "predict = model.predict(X_test)"
   ]
  },
  {
   "cell_type": "code",
   "execution_count": 83,
   "metadata": {
    "collapsed": true
   },
   "outputs": [],
   "source": [
    "output_csv(predict, 'rf_1000.csv')"
   ]
  },
  {
   "cell_type": "code",
   "execution_count": 71,
   "metadata": {
    "collapsed": false
   },
   "outputs": [],
   "source": [
    "def output_csv(predict, file_name):\n",
    "    import csv\n",
    "    output = zip(range(1, test_arr.shape[0] + 1), predict)\n",
    "    output_file = open(file_name, 'w')\n",
    "    writer = csv.writer(output_file)\n",
    "    writer.writerow(['ImageId', 'Label'])\n",
    "    writer.writerows(output)\n",
    "    output_file.close()"
   ]
  }
 ],
 "metadata": {
  "anaconda-cloud": {},
  "kernelspec": {
   "display_name": "Python [default]",
   "language": "python",
   "name": "python2"
  },
  "language_info": {
   "codemirror_mode": {
    "name": "ipython",
    "version": 2
   },
   "file_extension": ".py",
   "mimetype": "text/x-python",
   "name": "python",
   "nbconvert_exporter": "python",
   "pygments_lexer": "ipython2",
   "version": "2.7.12"
  }
 },
 "nbformat": 4,
 "nbformat_minor": 1
}
